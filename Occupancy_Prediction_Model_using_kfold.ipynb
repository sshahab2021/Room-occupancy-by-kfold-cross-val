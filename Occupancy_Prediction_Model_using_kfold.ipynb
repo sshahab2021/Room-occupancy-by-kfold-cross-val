{
 "cells": [
  {
   "cell_type": "code",
   "execution_count": 2,
   "metadata": {},
   "outputs": [],
   "source": [
    "from datetime import datetime\n",
    "\n",
    "import keras\n",
    "import numpy as np\n",
    "import pandas\n",
    "from keras.layers import Dense\n",
    "from keras.models import Sequential\n",
    "from keras.wrappers.scikit_learn import KerasClassifier"
   ]
  },
  {
   "cell_type": "code",
   "execution_count": 3,
   "metadata": {},
   "outputs": [],
   "source": [
    "from sklearn.model_selection import KFold, cross_val_score"
   ]
  },
  {
   "cell_type": "code",
   "execution_count": 4,
   "metadata": {},
   "outputs": [],
   "source": [
    "def stringToDateMatrix(str):\n",
    "    dt = datetime.strptime(str, \"%Y-%m-%d %H:%M:%S\")\n",
    "    return[dt.weekday(), dt.hour, dt.minute, dt.second]"
   ]
  },
  {
   "cell_type": "code",
   "execution_count": 5,
   "metadata": {},
   "outputs": [],
   "source": [
    "def loadData(filename):\n",
    "    table = pandas.read_csv(filename, sep=',')\n",
    "    dataset = table.values\n",
    "    input = dataset[:, 1:6]\n",
    "    raw_datetime = dataset[:, 0]\n",
    "    dates = np.array([stringToDateMatrix(x) for x in raw_datetime])\n",
    "    input = np.concatenate((dates, input), axis=1)\n",
    "    output = dataset[:, 6]\n",
    "    return (input, output)"
   ]
  },
  {
   "cell_type": "code",
   "execution_count": 6,
   "metadata": {},
   "outputs": [],
   "source": [
    "def oneLayerModel():\n",
    "    model = Sequential()\n",
    "    model.add(Dense(9, input_dim=9, init='normal', activation='tanh'))\n",
    "    model.add(Dense(1, init='normal', activation='tanh'))\n",
    "    return {\"model\": model, \"desc\": \"One layer arch.\"}"
   ]
  },
  {
   "cell_type": "code",
   "execution_count": 7,
   "metadata": {},
   "outputs": [],
   "source": [
    "def twoLayerModel():\n",
    "    model = Sequential()\n",
    "    model.add(Dense(9, input_dim=9, init='normal', activation='tanh'))\n",
    "    model.add(Dense(9, input_dim=9, init='normal', activation='tanh'))\n",
    "    model.add(Dense(1, init='normal', activation='tanh'))\n",
    "    return {\"model\": model, \"desc\": \"Two layer arch.\"}"
   ]
  },
  {
   "cell_type": "code",
   "execution_count": 8,
   "metadata": {},
   "outputs": [],
   "source": [
    "def compileSGD(model):\n",
    "    model['model'].compile(loss='mean_squared_error', metrics=[\n",
    "        \"accuracy\"], optimizer='sgd')\n",
    "    model['desc'] = model['desc'] + \"+SGD\"\n",
    "    return model"
   ]
  },
  {
   "cell_type": "code",
   "execution_count": 9,
   "metadata": {},
   "outputs": [],
   "source": [
    "def compileAdam(model):\n",
    "    model['model'].compile(loss='mean_squared_error', metrics=[\n",
    "        \"accuracy\"], optimizer='adam')\n",
    "    model['desc'] = model['desc'] + \"+Adam\"\n",
    "    return model"
   ]
  },
  {
   "cell_type": "code",
   "execution_count": 10,
   "metadata": {},
   "outputs": [],
   "source": [
    "def compileAdammax(model):\n",
    "    opt = keras.optimizers.Adamax(\n",
    "        lr=0.002, beta_1=0.9, beta_2=0.999, epsilon=1e-08, decay=0.0)\n",
    "    model['model'].compile(loss='mean_squared_error', metrics=[\n",
    "        \"accuracy\"], optimizer=opt)\n",
    "    model['desc'] = model['desc'] + \"+Adamax\"\n",
    "    return model"
   ]
  },
  {
   "cell_type": "code",
   "execution_count": 11,
   "metadata": {},
   "outputs": [],
   "source": [
    "def trainModelKeras(model, X, Y):\n",
    "    model['model'].fit(X, Y,\n",
    "                       nb_epoch=40,\n",
    "                       batch_size=40,\n",
    "                       verbose=0,\n",
    "                      \n",
    "                       )\n",
    "    return model"
   ]
  },
  {
   "cell_type": "code",
   "execution_count": 12,
   "metadata": {},
   "outputs": [],
   "source": [
    "def evaluateModel(model):\n",
    "    print (\"************** \", str(model['desc']), \" ******************\")\n",
    "    X, Y = loadData(\"data/datatest.txt\")\n",
    "    score = model['model'].evaluate(X, Y, batch_size=16)\n",
    "    print(score)\n",
    "    X, Y = loadData(\"data/datatest2.txt\")\n",
    "    score2 = model['model'].evaluate(X, Y, batch_size=16)\n",
    "    print(score2)"
   ]
  },
  {
   "cell_type": "code",
   "execution_count": null,
   "metadata": {},
   "outputs": [],
   "source": [
    "X, Y = loadData(\"data/datatraining.txt\")\n",
    "evaluateModel(trainModelKeras(compileSGD(oneLayerModel()), X, Y))\n",
    "evaluateModel(trainModelKeras(compileAdam(oneLayerModel()), X, Y))\n",
    "evaluateModel(trainModelKeras(compileAdammax(oneLayerModel()), X, Y))\n",
    "evaluateModel(trainModelKeras(compileSGD(twoLayerModel()), X, Y))\n",
    "evaluateModel(trainModelKeras(compileAdam(twoLayerModel()), X, Y))\n",
    "evaluateModel(trainModelKeras(compileAdammax(twoLayerModel()), X, Y))"
   ]
  }
 ],
 "metadata": {
  "kernelspec": {
   "display_name": "Python 3",
   "language": "python",
   "name": "python3"
  },
  "language_info": {
   "codemirror_mode": {
    "name": "ipython",
    "version": 3
   },
   "file_extension": ".py",
   "mimetype": "text/x-python",
   "name": "python",
   "nbconvert_exporter": "python",
   "pygments_lexer": "ipython3",
   "version": "3.8.3"
  }
 },
 "nbformat": 4,
 "nbformat_minor": 4
}
